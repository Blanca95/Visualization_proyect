{
 "cells": [
  {
   "cell_type": "markdown",
   "metadata": {},
   "source": [
    "# 2. DashBoard"
   ]
  },
  {
   "cell_type": "markdown",
   "metadata": {},
   "source": [
    "## Links visualiaciones:\n",
    "\n",
    "#### Worksheets:\n",
    "\n",
    "- [Cantidad de medicamentos por especies](https://public.tableau.com/app/profile/blanca.abreu/viz/Medicamentosveterinariosyreaccionesadversasdelosmismos_sheet1/Cantidadmedsxespecie?publish=yes)\n",
    "- [Tipos de reacciones adversas a los medicamentos por especies](https://public.tableau.com/app/profile/blanca.abreu/viz/Medicamentosveterinariosyreaccionesadversasdelosmismos_sheet2/Tiposdereaccionesadversasalosmedicamentosporespecies?publish=yes)\n",
    "- [Recuento de reacciones adversas de medicamentos en perros, gatos y caballos](https://public.tableau.com/app/profile/blanca.abreu/viz/Medicamentosveterinariosyreaccionesadversasdelosmismos_sheet3/Recuentodereaccionesadversasdemedicamentosenperrosgatosycaballos?publish=yes)\n",
    "- [Recuento de reacciones adversas de medicamentos en rumiantes y porcino](https://public.tableau.com/app/profile/blanca.abreu/viz/Medicamentosveterinariosyreaccionesadversasdelosmismos_sheet4/Recuentodereaccionesadversasdemedicamentosenrumiantesyporcino?publish=yes)\n",
    "- [Recuento de reacciones adversas de medicamentos en avicultura](https://public.tableau.com/app/profile/blanca.abreu/viz/Medicamentosveterinariosyreaccionesadversasdelosmismos_sheet5/Recuentodereaccionesadversasdemedicamentosenavicultura?publish=yes)\n",
    "- [Top 10 Reacciones Adversas más comunes por especie](https://public.tableau.com/app/profile/blanca.abreu/viz/Medicamentosveterinariosyreaccionesadversasdelosmismos_sheet6/Top10ReaccionesAdversasmscomunesporespecie?publish=yes)\n",
    "\n",
    "#### Dashboards:\n",
    "\n",
    "- [Cantidad de medicamentos por especie y reacciones adversas más comunes](https://public.tableau.com/app/profile/blanca.abreu/viz/Medicamentosveterinariosyreaccionesadversasdelosmismos_dashboard1/Reaccionesporespecies?publish=yes)\n",
    "- [Reacciones por categorías de especies](https://public.tableau.com/app/profile/blanca.abreu/viz/Medicamentosveterinariosyreaccionesadversasdelosmismos_dashboard2/Reaccionesporcategorasdeespecies?publish=yes)"
   ]
  }
 ],
 "metadata": {
  "language_info": {
   "name": "python"
  }
 },
 "nbformat": 4,
 "nbformat_minor": 2
}
